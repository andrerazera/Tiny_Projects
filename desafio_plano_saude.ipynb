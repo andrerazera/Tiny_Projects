{
 "cells": [
  {
   "cell_type": "code",
   "execution_count": 241,
   "source": [
    "import pandas as pd"
   ],
   "outputs": [],
   "metadata": {}
  },
  {
   "cell_type": "code",
   "execution_count": 242,
   "source": [
    "# importação e limpeza de dados\r\n",
    "df = pd.read_csv('seguro_saude.csv',decimal='.').drop(0,axis=0)\r\n",
    "\r\n",
    "#forçando transformação de valores \r\n",
    "df['valor_seguro_saude'] = df['valor_seguro_saude'].astype(float)\r\n",
    "df['imc'] = df['imc'].astype(float)\r\n",
    "df['idade'] = df['idade'].astype(int)\r\n",
    "df['crianca'] = df['crianca'].astype(int)\r\n",
    "\r\n",
    "#removendo um registro com regiao = '1'\r\n",
    "df = df[df['regiao'] != '1'] \r\n",
    "\r\n",
    "#removendo um registro com sexo = '2'\r\n",
    "df = df[df['sexo'] != '2']\r\n"
   ],
   "outputs": [],
   "metadata": {}
  },
  {
   "cell_type": "code",
   "execution_count": 243,
   "source": [
    "df.describe()"
   ],
   "outputs": [
    {
     "output_type": "execute_result",
     "data": {
      "text/html": [
       "<div>\n",
       "<style scoped>\n",
       "    .dataframe tbody tr th:only-of-type {\n",
       "        vertical-align: middle;\n",
       "    }\n",
       "\n",
       "    .dataframe tbody tr th {\n",
       "        vertical-align: top;\n",
       "    }\n",
       "\n",
       "    .dataframe thead th {\n",
       "        text-align: right;\n",
       "    }\n",
       "</style>\n",
       "<table border=\"1\" class=\"dataframe\">\n",
       "  <thead>\n",
       "    <tr style=\"text-align: right;\">\n",
       "      <th></th>\n",
       "      <th>idade</th>\n",
       "      <th>imc</th>\n",
       "      <th>crianca</th>\n",
       "      <th>valor_seguro_saude</th>\n",
       "    </tr>\n",
       "  </thead>\n",
       "  <tbody>\n",
       "    <tr>\n",
       "      <th>count</th>\n",
       "      <td>1336.000000</td>\n",
       "      <td>1336.000000</td>\n",
       "      <td>1336.000000</td>\n",
       "      <td>1336.000000</td>\n",
       "    </tr>\n",
       "    <tr>\n",
       "      <th>mean</th>\n",
       "      <td>39.220808</td>\n",
       "      <td>30.656411</td>\n",
       "      <td>1.096557</td>\n",
       "      <td>13285.074497</td>\n",
       "    </tr>\n",
       "    <tr>\n",
       "      <th>std</th>\n",
       "      <td>14.049507</td>\n",
       "      <td>6.097090</td>\n",
       "      <td>1.205650</td>\n",
       "      <td>12112.840958</td>\n",
       "    </tr>\n",
       "    <tr>\n",
       "      <th>min</th>\n",
       "      <td>18.000000</td>\n",
       "      <td>15.960000</td>\n",
       "      <td>0.000000</td>\n",
       "      <td>1121.873900</td>\n",
       "    </tr>\n",
       "    <tr>\n",
       "      <th>25%</th>\n",
       "      <td>27.000000</td>\n",
       "      <td>26.272500</td>\n",
       "      <td>0.000000</td>\n",
       "      <td>4744.325050</td>\n",
       "    </tr>\n",
       "    <tr>\n",
       "      <th>50%</th>\n",
       "      <td>39.000000</td>\n",
       "      <td>30.380000</td>\n",
       "      <td>1.000000</td>\n",
       "      <td>9388.753650</td>\n",
       "    </tr>\n",
       "    <tr>\n",
       "      <th>75%</th>\n",
       "      <td>51.000000</td>\n",
       "      <td>34.681250</td>\n",
       "      <td>2.000000</td>\n",
       "      <td>16687.364100</td>\n",
       "    </tr>\n",
       "    <tr>\n",
       "      <th>max</th>\n",
       "      <td>64.000000</td>\n",
       "      <td>53.130000</td>\n",
       "      <td>5.000000</td>\n",
       "      <td>63770.428010</td>\n",
       "    </tr>\n",
       "  </tbody>\n",
       "</table>\n",
       "</div>"
      ],
      "text/plain": [
       "             idade          imc      crianca  valor_seguro_saude\n",
       "count  1336.000000  1336.000000  1336.000000         1336.000000\n",
       "mean     39.220808    30.656411     1.096557        13285.074497\n",
       "std      14.049507     6.097090     1.205650        12112.840958\n",
       "min      18.000000    15.960000     0.000000         1121.873900\n",
       "25%      27.000000    26.272500     0.000000         4744.325050\n",
       "50%      39.000000    30.380000     1.000000         9388.753650\n",
       "75%      51.000000    34.681250     2.000000        16687.364100\n",
       "max      64.000000    53.130000     5.000000        63770.428010"
      ]
     },
     "metadata": {},
     "execution_count": 243
    }
   ],
   "metadata": {}
  },
  {
   "cell_type": "code",
   "execution_count": 244,
   "source": [
    "df.info()"
   ],
   "outputs": [
    {
     "output_type": "stream",
     "name": "stdout",
     "text": [
      "<class 'pandas.core.frame.DataFrame'>\n",
      "Int64Index: 1336 entries, 1 to 1338\n",
      "Data columns (total 7 columns):\n",
      " #   Column              Non-Null Count  Dtype  \n",
      "---  ------              --------------  -----  \n",
      " 0   idade               1336 non-null   int32  \n",
      " 1   sexo                1334 non-null   object \n",
      " 2   imc                 1336 non-null   float64\n",
      " 3   crianca             1336 non-null   int32  \n",
      " 4   fumante             1335 non-null   object \n",
      " 5   regiao              1335 non-null   object \n",
      " 6   valor_seguro_saude  1336 non-null   float64\n",
      "dtypes: float64(2), int32(2), object(3)\n",
      "memory usage: 57.4+ KB\n"
     ]
    }
   ],
   "metadata": {}
  },
  {
   "cell_type": "markdown",
   "source": [
    "## 1. Qual o gasto total da operadora? "
   ],
   "metadata": {}
  },
  {
   "cell_type": "code",
   "execution_count": 245,
   "source": [
    "vlr = round(df['valor_seguro_saude'].sum(),2)\r\n",
    "print('O total gasto pela operadora é de R$'+str(vlr))"
   ],
   "outputs": [
    {
     "output_type": "stream",
     "name": "stdout",
     "text": [
      "O total gasto pela operadora é de R$17748859.53\n"
     ]
    }
   ],
   "metadata": {}
  },
  {
   "cell_type": "markdown",
   "source": [
    "## 2. Qual a idade média dos usuários da operadora?\r\n"
   ],
   "metadata": {}
  },
  {
   "cell_type": "code",
   "execution_count": 246,
   "source": [
    "print('A média dos usuários da operadora é de '+ str(round(df['idade'].mean(),2))+' anos.')"
   ],
   "outputs": [
    {
     "output_type": "stream",
     "name": "stdout",
     "text": [
      "A média dos usuários da operadora é de 39.22 anos.\n"
     ]
    }
   ],
   "metadata": {}
  },
  {
   "cell_type": "markdown",
   "source": [
    "## 3. Qual o gasto médio por região?\r\n"
   ],
   "metadata": {}
  },
  {
   "cell_type": "code",
   "execution_count": 247,
   "source": [
    "df[['regiao','valor_seguro_saude']].groupby('regiao').mean()"
   ],
   "outputs": [
    {
     "output_type": "execute_result",
     "data": {
      "text/html": [
       "<div>\n",
       "<style scoped>\n",
       "    .dataframe tbody tr th:only-of-type {\n",
       "        vertical-align: middle;\n",
       "    }\n",
       "\n",
       "    .dataframe tbody tr th {\n",
       "        vertical-align: top;\n",
       "    }\n",
       "\n",
       "    .dataframe thead th {\n",
       "        text-align: right;\n",
       "    }\n",
       "</style>\n",
       "<table border=\"1\" class=\"dataframe\">\n",
       "  <thead>\n",
       "    <tr style=\"text-align: right;\">\n",
       "      <th></th>\n",
       "      <th>valor_seguro_saude</th>\n",
       "    </tr>\n",
       "    <tr>\n",
       "      <th>regiao</th>\n",
       "      <th></th>\n",
       "    </tr>\n",
       "  </thead>\n",
       "  <tbody>\n",
       "    <tr>\n",
       "      <th>nordeste</th>\n",
       "      <td>12417.575374</td>\n",
       "    </tr>\n",
       "    <tr>\n",
       "      <th>norte</th>\n",
       "      <td>13406.384516</td>\n",
       "    </tr>\n",
       "    <tr>\n",
       "      <th>sudeste</th>\n",
       "      <td>12268.340243</td>\n",
       "    </tr>\n",
       "    <tr>\n",
       "      <th>sul</th>\n",
       "      <td>14760.277132</td>\n",
       "    </tr>\n",
       "  </tbody>\n",
       "</table>\n",
       "</div>"
      ],
      "text/plain": [
       "          valor_seguro_saude\n",
       "regiao                      \n",
       "nordeste        12417.575374\n",
       "norte           13406.384516\n",
       "sudeste         12268.340243\n",
       "sul             14760.277132"
      ]
     },
     "metadata": {},
     "execution_count": 247
    }
   ],
   "metadata": {}
  },
  {
   "cell_type": "markdown",
   "source": [
    "## 4. Qual faixa etária possui maior gasto com seguro saúde por região?\r\n"
   ],
   "metadata": {}
  },
  {
   "cell_type": "code",
   "execution_count": 248,
   "source": [
    "# df[['regiao','valor_seguro_saude','idade']].groupby(['idade','regiao']).mean()\r\n",
    "\r\n",
    "df4 = df[['regiao','valor_seguro_saude','idade']].sort_values('valor_seguro_saude',ascending=False)\r\n",
    "\r\n",
    "# Primeira resposta da pergunta 4\r\n",
    "r4 = df4.groupby(['idade','regiao']).mean().sort_values('valor_seguro_saude', ascending=False)\r\n",
    "r4"
   ],
   "outputs": [
    {
     "output_type": "execute_result",
     "data": {
      "text/html": [
       "<div>\n",
       "<style scoped>\n",
       "    .dataframe tbody tr th:only-of-type {\n",
       "        vertical-align: middle;\n",
       "    }\n",
       "\n",
       "    .dataframe tbody tr th {\n",
       "        vertical-align: top;\n",
       "    }\n",
       "\n",
       "    .dataframe thead th {\n",
       "        text-align: right;\n",
       "    }\n",
       "</style>\n",
       "<table border=\"1\" class=\"dataframe\">\n",
       "  <thead>\n",
       "    <tr style=\"text-align: right;\">\n",
       "      <th></th>\n",
       "      <th></th>\n",
       "      <th>valor_seguro_saude</th>\n",
       "    </tr>\n",
       "    <tr>\n",
       "      <th>idade</th>\n",
       "      <th>regiao</th>\n",
       "      <th></th>\n",
       "    </tr>\n",
       "  </thead>\n",
       "  <tbody>\n",
       "    <tr>\n",
       "      <th>19</th>\n",
       "      <th>sul</th>\n",
       "      <td>35570.314200</td>\n",
       "    </tr>\n",
       "    <tr>\n",
       "      <th>61</th>\n",
       "      <th>sul</th>\n",
       "      <td>30238.455784</td>\n",
       "    </tr>\n",
       "    <tr>\n",
       "      <th>54</th>\n",
       "      <th>sul</th>\n",
       "      <td>29947.846324</td>\n",
       "    </tr>\n",
       "    <tr>\n",
       "      <th>43</th>\n",
       "      <th>sul</th>\n",
       "      <td>28860.922002</td>\n",
       "    </tr>\n",
       "    <tr>\n",
       "      <th>64</th>\n",
       "      <th>sudeste</th>\n",
       "      <td>27669.870200</td>\n",
       "    </tr>\n",
       "    <tr>\n",
       "      <th>...</th>\n",
       "      <th>...</th>\n",
       "      <td>...</td>\n",
       "    </tr>\n",
       "    <tr>\n",
       "      <th>30</th>\n",
       "      <th>norte</th>\n",
       "      <td>4481.032325</td>\n",
       "    </tr>\n",
       "    <tr>\n",
       "      <th rowspan=\"2\" valign=\"top\">21</th>\n",
       "      <th>sudeste</th>\n",
       "      <td>4397.524000</td>\n",
       "    </tr>\n",
       "    <tr>\n",
       "      <th>sul</th>\n",
       "      <td>4056.664759</td>\n",
       "    </tr>\n",
       "    <tr>\n",
       "      <th>26</th>\n",
       "      <th>nordeste</th>\n",
       "      <td>3157.814357</td>\n",
       "    </tr>\n",
       "    <tr>\n",
       "      <th>22</th>\n",
       "      <th>norte</th>\n",
       "      <td>2952.241964</td>\n",
       "    </tr>\n",
       "  </tbody>\n",
       "</table>\n",
       "<p>185 rows × 1 columns</p>\n",
       "</div>"
      ],
      "text/plain": [
       "                valor_seguro_saude\n",
       "idade regiao                      \n",
       "19    sul             35570.314200\n",
       "61    sul             30238.455784\n",
       "54    sul             29947.846324\n",
       "43    sul             28860.922002\n",
       "64    sudeste         27669.870200\n",
       "...                            ...\n",
       "30    norte            4481.032325\n",
       "21    sudeste          4397.524000\n",
       "      sul              4056.664759\n",
       "26    nordeste         3157.814357\n",
       "22    norte            2952.241964\n",
       "\n",
       "[185 rows x 1 columns]"
      ]
     },
     "metadata": {},
     "execution_count": 248
    }
   ],
   "metadata": {}
  },
  {
   "cell_type": "code",
   "execution_count": 249,
   "source": [
    "# Para responder melhor a pergunta 4, irei separar as idades em um range de idade que faça sentido para\r\n",
    "# o ramo de planos de saúde.\r\n",
    "# Achei um range utilizado para os reajustes de preços de planos de saúde no site idec.org.br\r\n",
    "\r\n",
    "\r\n",
    "# https://idec.org.br/consultas/dicas-e-direitos/reajustes-de-planos-de-saude-por-faixa-etaria-saiba-seus-direitos?utm_campaign=DSA_|_Target_+35&utm_adgroup=DSA_|_Sa%C3%BAde&creative=252407851816&keyword=&gclid=CjwKCAjwhuCKBhADEiwA1HegOWWQoiu5Asfcdw0NArahI1ZD6xojIZgL7D85zhV7TMQBSSnAnx3dvxoCEA4QAvD_BwE\r\n",
    "# #0 (zero) a 18 (dezoito) anos;\r\n",
    "# 19 (dezenove) a 23 (vinte e três) anos;\r\n",
    "# 24 (vinte e quatro) a 28 (vinte e oito) anos;\r\n",
    "# 29 (vinte e nove) a 33 (trinta e três) anos;\r\n",
    "# 34 (trinta e quatro) a 38 (trinta e oito) anos;\r\n",
    "# 39 (trinta e nove) a 43 (quarenta e três) anos;\r\n",
    "# 44 (quarenta e quatro) a 48 (quarenta e oito) anos;\r\n",
    "# 49 (quarenta e nove) a 53 (cinquenta e três) anos;\r\n",
    "# 54 (cinquenta e quatro) a 58 (cinquenta e oito) anos;\r\n",
    "# 59 (cinquenta e nove) anos ou mais. \r\n",
    "\r\n",
    "def range_idade(idade):\r\n",
    "    if idade <= 18:\r\n",
    "        return '0-18'\r\n",
    "    elif idade <= 23:\r\n",
    "        return '19-23'\r\n",
    "    elif idade <= 28:\r\n",
    "        return '24-28'\r\n",
    "    elif idade <= 33:\r\n",
    "        return '29-33'\r\n",
    "    elif idade <= 38:\r\n",
    "        return '34-38'            \r\n",
    "    elif idade <= 43:\r\n",
    "        return '39-43'\r\n",
    "    elif idade <= 48:\r\n",
    "        return '44-48'\r\n",
    "    elif idade <= 53:\r\n",
    "        return '49-53'\r\n",
    "    elif idade <= 58:\r\n",
    "        return '54-58'\r\n",
    "    else:\r\n",
    "        return '59+'\r\n",
    "\r\n"
   ],
   "outputs": [],
   "metadata": {}
  },
  {
   "cell_type": "code",
   "execution_count": 250,
   "source": [
    "# Aplicar a faixa de idade para cada registro\r\n",
    "df['FaixaIdade'] = df['idade'].apply(range_idade)"
   ],
   "outputs": [],
   "metadata": {}
  },
  {
   "cell_type": "code",
   "execution_count": 251,
   "source": [
    "# Fazendo uma resposta melhor para a pergunta 4\r\n",
    "\r\n",
    "df4_2 = df[['regiao','valor_seguro_saude','FaixaIdade']].sort_values('valor_seguro_saude',ascending=False)\r\n",
    "\r\n",
    "# Primeira resposta da pergunta 4\r\n",
    "r4_2 = df4_2.groupby(['FaixaIdade','regiao']).mean().sort_values('valor_seguro_saude', ascending=False)"
   ],
   "outputs": [],
   "metadata": {}
  },
  {
   "cell_type": "code",
   "execution_count": 252,
   "source": [
    "r4_2"
   ],
   "outputs": [
    {
     "output_type": "execute_result",
     "data": {
      "text/html": [
       "<div>\n",
       "<style scoped>\n",
       "    .dataframe tbody tr th:only-of-type {\n",
       "        vertical-align: middle;\n",
       "    }\n",
       "\n",
       "    .dataframe tbody tr th {\n",
       "        vertical-align: top;\n",
       "    }\n",
       "\n",
       "    .dataframe thead th {\n",
       "        text-align: right;\n",
       "    }\n",
       "</style>\n",
       "<table border=\"1\" class=\"dataframe\">\n",
       "  <thead>\n",
       "    <tr style=\"text-align: right;\">\n",
       "      <th></th>\n",
       "      <th></th>\n",
       "      <th>valor_seguro_saude</th>\n",
       "    </tr>\n",
       "    <tr>\n",
       "      <th>FaixaIdade</th>\n",
       "      <th>regiao</th>\n",
       "      <th></th>\n",
       "    </tr>\n",
       "  </thead>\n",
       "  <tbody>\n",
       "    <tr>\n",
       "      <th rowspan=\"2\" valign=\"top\">59+</th>\n",
       "      <th>sul</th>\n",
       "      <td>22717.271511</td>\n",
       "    </tr>\n",
       "    <tr>\n",
       "      <th>sudeste</th>\n",
       "      <td>21124.828982</td>\n",
       "    </tr>\n",
       "    <tr>\n",
       "      <th>54-58</th>\n",
       "      <th>sul</th>\n",
       "      <td>20319.141998</td>\n",
       "    </tr>\n",
       "    <tr>\n",
       "      <th rowspan=\"2\" valign=\"top\">59+</th>\n",
       "      <th>norte</th>\n",
       "      <td>19264.002663</td>\n",
       "    </tr>\n",
       "    <tr>\n",
       "      <th>nordeste</th>\n",
       "      <td>19001.265151</td>\n",
       "    </tr>\n",
       "    <tr>\n",
       "      <th>44-48</th>\n",
       "      <th>sul</th>\n",
       "      <td>18481.014647</td>\n",
       "    </tr>\n",
       "    <tr>\n",
       "      <th>49-53</th>\n",
       "      <th>norte</th>\n",
       "      <td>17898.357708</td>\n",
       "    </tr>\n",
       "    <tr>\n",
       "      <th>44-48</th>\n",
       "      <th>nordeste</th>\n",
       "      <td>16422.184605</td>\n",
       "    </tr>\n",
       "    <tr>\n",
       "      <th>54-58</th>\n",
       "      <th>nordeste</th>\n",
       "      <td>16119.927459</td>\n",
       "    </tr>\n",
       "    <tr>\n",
       "      <th rowspan=\"2\" valign=\"top\">49-53</th>\n",
       "      <th>sul</th>\n",
       "      <td>16020.219049</td>\n",
       "    </tr>\n",
       "    <tr>\n",
       "      <th>nordeste</th>\n",
       "      <td>15973.971411</td>\n",
       "    </tr>\n",
       "    <tr>\n",
       "      <th>39-43</th>\n",
       "      <th>sul</th>\n",
       "      <td>15650.463921</td>\n",
       "    </tr>\n",
       "    <tr>\n",
       "      <th>54-58</th>\n",
       "      <th>norte</th>\n",
       "      <td>15438.112814</td>\n",
       "    </tr>\n",
       "    <tr>\n",
       "      <th>39-43</th>\n",
       "      <th>norte</th>\n",
       "      <td>14508.815178</td>\n",
       "    </tr>\n",
       "    <tr>\n",
       "      <th>34-38</th>\n",
       "      <th>norte</th>\n",
       "      <td>14403.767675</td>\n",
       "    </tr>\n",
       "    <tr>\n",
       "      <th>44-48</th>\n",
       "      <th>norte</th>\n",
       "      <td>13941.907722</td>\n",
       "    </tr>\n",
       "    <tr>\n",
       "      <th>19-23</th>\n",
       "      <th>sul</th>\n",
       "      <td>13484.219401</td>\n",
       "    </tr>\n",
       "    <tr>\n",
       "      <th>49-53</th>\n",
       "      <th>sudeste</th>\n",
       "      <td>12895.526397</td>\n",
       "    </tr>\n",
       "    <tr>\n",
       "      <th>29-33</th>\n",
       "      <th>sudeste</th>\n",
       "      <td>12770.773933</td>\n",
       "    </tr>\n",
       "    <tr>\n",
       "      <th>34-38</th>\n",
       "      <th>sudeste</th>\n",
       "      <td>12748.899254</td>\n",
       "    </tr>\n",
       "    <tr>\n",
       "      <th>54-58</th>\n",
       "      <th>sudeste</th>\n",
       "      <td>12701.607336</td>\n",
       "    </tr>\n",
       "    <tr>\n",
       "      <th>34-38</th>\n",
       "      <th>sul</th>\n",
       "      <td>12602.593260</td>\n",
       "    </tr>\n",
       "    <tr>\n",
       "      <th>44-48</th>\n",
       "      <th>sudeste</th>\n",
       "      <td>12498.867665</td>\n",
       "    </tr>\n",
       "    <tr>\n",
       "      <th>24-28</th>\n",
       "      <th>sul</th>\n",
       "      <td>11911.623288</td>\n",
       "    </tr>\n",
       "    <tr>\n",
       "      <th>29-33</th>\n",
       "      <th>nordeste</th>\n",
       "      <td>11335.217055</td>\n",
       "    </tr>\n",
       "    <tr>\n",
       "      <th rowspan=\"2\" valign=\"top\">39-43</th>\n",
       "      <th>nordeste</th>\n",
       "      <td>11216.864778</td>\n",
       "    </tr>\n",
       "    <tr>\n",
       "      <th>sudeste</th>\n",
       "      <td>10907.541748</td>\n",
       "    </tr>\n",
       "    <tr>\n",
       "      <th>29-33</th>\n",
       "      <th>norte</th>\n",
       "      <td>10524.144935</td>\n",
       "    </tr>\n",
       "    <tr>\n",
       "      <th rowspan=\"2\" valign=\"top\">24-28</th>\n",
       "      <th>norte</th>\n",
       "      <td>10148.764783</td>\n",
       "    </tr>\n",
       "    <tr>\n",
       "      <th>sudeste</th>\n",
       "      <td>9909.789131</td>\n",
       "    </tr>\n",
       "    <tr>\n",
       "      <th>29-33</th>\n",
       "      <th>sul</th>\n",
       "      <td>9546.450771</td>\n",
       "    </tr>\n",
       "    <tr>\n",
       "      <th>34-38</th>\n",
       "      <th>nordeste</th>\n",
       "      <td>9141.609592</td>\n",
       "    </tr>\n",
       "    <tr>\n",
       "      <th rowspan=\"3\" valign=\"top\">19-23</th>\n",
       "      <th>norte</th>\n",
       "      <td>9113.936142</td>\n",
       "    </tr>\n",
       "    <tr>\n",
       "      <th>nordeste</th>\n",
       "      <td>9006.469269</td>\n",
       "    </tr>\n",
       "    <tr>\n",
       "      <th>sudeste</th>\n",
       "      <td>8057.693796</td>\n",
       "    </tr>\n",
       "    <tr>\n",
       "      <th rowspan=\"2\" valign=\"top\">0-18</th>\n",
       "      <th>norte</th>\n",
       "      <td>7558.732497</td>\n",
       "    </tr>\n",
       "    <tr>\n",
       "      <th>sul</th>\n",
       "      <td>6677.555986</td>\n",
       "    </tr>\n",
       "    <tr>\n",
       "      <th>24-28</th>\n",
       "      <th>nordeste</th>\n",
       "      <td>5930.103076</td>\n",
       "    </tr>\n",
       "  </tbody>\n",
       "</table>\n",
       "</div>"
      ],
      "text/plain": [
       "                     valor_seguro_saude\n",
       "FaixaIdade regiao                      \n",
       "59+        sul             22717.271511\n",
       "           sudeste         21124.828982\n",
       "54-58      sul             20319.141998\n",
       "59+        norte           19264.002663\n",
       "           nordeste        19001.265151\n",
       "44-48      sul             18481.014647\n",
       "49-53      norte           17898.357708\n",
       "44-48      nordeste        16422.184605\n",
       "54-58      nordeste        16119.927459\n",
       "49-53      sul             16020.219049\n",
       "           nordeste        15973.971411\n",
       "39-43      sul             15650.463921\n",
       "54-58      norte           15438.112814\n",
       "39-43      norte           14508.815178\n",
       "34-38      norte           14403.767675\n",
       "44-48      norte           13941.907722\n",
       "19-23      sul             13484.219401\n",
       "49-53      sudeste         12895.526397\n",
       "29-33      sudeste         12770.773933\n",
       "34-38      sudeste         12748.899254\n",
       "54-58      sudeste         12701.607336\n",
       "34-38      sul             12602.593260\n",
       "44-48      sudeste         12498.867665\n",
       "24-28      sul             11911.623288\n",
       "29-33      nordeste        11335.217055\n",
       "39-43      nordeste        11216.864778\n",
       "           sudeste         10907.541748\n",
       "29-33      norte           10524.144935\n",
       "24-28      norte           10148.764783\n",
       "           sudeste          9909.789131\n",
       "29-33      sul              9546.450771\n",
       "34-38      nordeste         9141.609592\n",
       "19-23      norte            9113.936142\n",
       "           nordeste         9006.469269\n",
       "           sudeste          8057.693796\n",
       "0-18       norte            7558.732497\n",
       "           sul              6677.555986\n",
       "24-28      nordeste         5930.103076"
      ]
     },
     "metadata": {},
     "execution_count": 252
    }
   ],
   "metadata": {}
  },
  {
   "cell_type": "code",
   "execution_count": 253,
   "source": [
    "print('a utilização de faixa de idade parece fazer muito mais sentido para esse tipo de análise')"
   ],
   "outputs": [
    {
     "output_type": "stream",
     "name": "stdout",
     "text": [
      "a utilização de faixa de idade parece fazer muito mais sentido para esse tipo de análise\n"
     ]
    }
   ],
   "metadata": {}
  },
  {
   "cell_type": "markdown",
   "source": [
    "## 5. Crianças tem gasto maior que adultos?"
   ],
   "metadata": {}
  },
  {
   "cell_type": "code",
   "execution_count": 254,
   "source": [
    "df5 = df[['crianca','valor_seguro_saude']].sort_values('valor_seguro_saude', ascending=False)\r\n",
    "df5_r = df5.groupby('crianca').mean()\r\n",
    "\r\n",
    "r5 = 'Não'\r\n"
   ],
   "outputs": [],
   "metadata": {}
  },
  {
   "cell_type": "markdown",
   "source": [
    "## 6. Qual a proporção de crianças por região?\r\n"
   ],
   "metadata": {}
  },
  {
   "cell_type": "code",
   "execution_count": 255,
   "source": [
    "total_criancas = df['crianca'].sum()\r\n",
    "\r\n",
    "\r\n",
    "df6 = df[['regiao','crianca']].groupby('regiao').sum()\r\n",
    "\r\n",
    "df6['prop %'] = round(df6['crianca'] / total_criancas,4)*100"
   ],
   "outputs": [],
   "metadata": {}
  },
  {
   "cell_type": "code",
   "execution_count": 256,
   "source": [
    "df6"
   ],
   "outputs": [
    {
     "output_type": "execute_result",
     "data": {
      "text/html": [
       "<div>\n",
       "<style scoped>\n",
       "    .dataframe tbody tr th:only-of-type {\n",
       "        vertical-align: middle;\n",
       "    }\n",
       "\n",
       "    .dataframe tbody tr th {\n",
       "        vertical-align: top;\n",
       "    }\n",
       "\n",
       "    .dataframe thead th {\n",
       "        text-align: right;\n",
       "    }\n",
       "</style>\n",
       "<table border=\"1\" class=\"dataframe\">\n",
       "  <thead>\n",
       "    <tr style=\"text-align: right;\">\n",
       "      <th></th>\n",
       "      <th>crianca</th>\n",
       "      <th>prop %</th>\n",
       "    </tr>\n",
       "    <tr>\n",
       "      <th>regiao</th>\n",
       "      <th></th>\n",
       "      <th></th>\n",
       "    </tr>\n",
       "  </thead>\n",
       "  <tbody>\n",
       "    <tr>\n",
       "      <th>nordeste</th>\n",
       "      <td>373</td>\n",
       "      <td>25.46</td>\n",
       "    </tr>\n",
       "    <tr>\n",
       "      <th>norte</th>\n",
       "      <td>339</td>\n",
       "      <td>23.14</td>\n",
       "    </tr>\n",
       "    <tr>\n",
       "      <th>sudeste</th>\n",
       "      <td>371</td>\n",
       "      <td>25.32</td>\n",
       "    </tr>\n",
       "    <tr>\n",
       "      <th>sul</th>\n",
       "      <td>382</td>\n",
       "      <td>26.08</td>\n",
       "    </tr>\n",
       "  </tbody>\n",
       "</table>\n",
       "</div>"
      ],
      "text/plain": [
       "          crianca  prop %\n",
       "regiao                   \n",
       "nordeste      373   25.46\n",
       "norte         339   23.14\n",
       "sudeste       371   25.32\n",
       "sul           382   26.08"
      ]
     },
     "metadata": {},
     "execution_count": 256
    }
   ],
   "metadata": {}
  },
  {
   "cell_type": "markdown",
   "source": [
    "## 7. O aumento da idade influencia no imc?\r\n"
   ],
   "metadata": {}
  },
  {
   "cell_type": "code",
   "execution_count": 257,
   "source": [
    "df[['FaixaIdade','imc']].groupby('FaixaIdade').mean().plot()\r\n",
    "\r\n",
    "r7 = 'começa a aumentar depois dos 40 anos'"
   ],
   "outputs": [
    {
     "output_type": "display_data",
     "data": {
      "image/png": "[encoded data removed]",
      "text/plain": [
       "<Figure size 432x288 with 1 Axes>"
      ]
     },
     "metadata": {
      "needs_background": "light"
     }
    }
   ],
   "metadata": {}
  },
  {
   "cell_type": "markdown",
   "source": [
    "## 8. Quem tem maior gasto, homens ou mulheres?\r\n"
   ],
   "metadata": {}
  },
  {
   "cell_type": "code",
   "execution_count": 258,
   "source": [
    "df8 = df[['sexo','valor_seguro_saude']].groupby('sexo').mean()\r\n",
    "\r\n",
    "r8 = 'homens gastam mais em media'"
   ],
   "outputs": [],
   "metadata": {}
  },
  {
   "cell_type": "markdown",
   "source": [
    "## 9. Se o usuário for mulher, o imc é acima ou abaixo da média?\r\n"
   ],
   "metadata": {}
  },
  {
   "cell_type": "code",
   "execution_count": 259,
   "source": [
    "media_geral = round(df['imc'].mean(),2)\r\n",
    "\r\n",
    "media_fem = round(df[df['sexo'] == 'feminino']['imc'].mean(),2)\r\n",
    "\r\n",
    "print('Se a usuária é mulher, o IMC é levemente menor que o masculino, Media Geral: '+str(media_geral)+', Média das mulheres: '+str(media_fem))"
   ],
   "outputs": [
    {
     "output_type": "stream",
     "name": "stdout",
     "text": [
      "Se a usuária é mulher, o IMC é levemente menor que o masculino, Media Geral: 30.66, Média das mulheres: 30.37\n"
     ]
    }
   ],
   "metadata": {}
  },
  {
   "cell_type": "markdown",
   "source": [
    "## 10. Se for homem, com mais de 50 anos e da região Sudeste, o gasto é maior ou menor que a média de gastos da região?"
   ],
   "metadata": {}
  },
  {
   "cell_type": "code",
   "execution_count": 260,
   "source": [
    "df10 = df[df['regiao'] == 'sudeste']\r\n",
    "\r\n",
    "# df.query('Compra==\"B\" & Pessoas==\"2020\" ')\r\n",
    "\r\n",
    "df10_h_maior50 = df10.query('sexo==\"masculino\" & idade>50')"
   ],
   "outputs": [],
   "metadata": {}
  },
  {
   "cell_type": "code",
   "execution_count": 261,
   "source": [
    "media_homem_maior50 = df10_h_maior50['valor_seguro_saude'].mean()\r\n",
    "media_regiao = df10['valor_seguro_saude'].mean()\r\n",
    "\r\n",
    "delta = str(round(((media_homem_maior50/media_regiao)-1)*100,2))+\"%\"\r\n",
    "\r\n",
    "print('Na regiao sudeste, homens com mais de 50 anos gastam '+delta+' a mais que a media da regiao')\r\n",
    "print('Media homem com mais de 50 no sudeste: '+str(round(media_homem_maior50,2)))\r\n",
    "print('Media Regiao sudeste: '+str(round(media_regiao,2)))\r\n",
    "\r\n",
    "\r\n"
   ],
   "outputs": [
    {
     "output_type": "stream",
     "name": "stdout",
     "text": [
      "Na regiao sudeste, homens com mais de 50 anos gastam 23.65% a mais que a media da regiao\n",
      "Media homem com mais de 50 no sudeste: 15170.28\n",
      "Media Regiao sudeste: 12268.34\n"
     ]
    }
   ],
   "metadata": {}
  }
 ],
 "metadata": {
  "orig_nbformat": 4,
  "language_info": {
   "name": "python",
   "version": "3.7.3",
   "mimetype": "text/x-python",
   "codemirror_mode": {
    "name": "ipython",
    "version": 3
   },
   "pygments_lexer": "ipython3",
   "nbconvert_exporter": "python",
   "file_extension": ".py"
  },
  "kernelspec": {
   "name": "python3",
   "display_name": "Python 3.7.3 32-bit"
  },
  "interpreter": {
   "hash": "ca88bab9ce8d9e4c3717e0c654e4f59b1c36aef4cbef335c62f6a9b2c686e4f2"
  }
 },
 "nbformat": 4,
 "nbformat_minor": 2
}